{
 "cells": [
  {
   "cell_type": "code",
   "execution_count": 1,
   "metadata": {},
   "outputs": [],
   "source": [
    "# Import pandas to create a data frame\n",
    "import pandas as pd"
   ]
  },
  {
   "cell_type": "code",
   "execution_count": 2,
   "metadata": {},
   "outputs": [],
   "source": [
    "# Import the csv\n",
    "df = pd.read_csv('list1.csv', encoding = \"ISO-8859-1\")\n",
    "\n",
    "# Create column status with initial value on 0\n",
    "df.loc[:, 'status'] = -1\n",
    "\n",
    "# Filter the students by joined legend\n",
    "df.loc[df['User Action'].str.startswith('Jo'), 'status'] = 1\n",
    "\n",
    "# Select columns\n",
    "df1 = df[['Full Name', 'status']]\n",
    "\n",
    "# Rename the columns\n",
    "df2 = df1.rename(columns={\"Full Name\": \"name\", \"status\": \"assisted\"})\n",
    "df2 = df2.sort_values('name')\n",
    "\n",
    "# Filter assistants and teacher\n",
    "erase_values = (\"Flor Alejandra Cruz Guzmn\", \"Rafael Gutirrez Balboa\", \"Ivn Heredia De La Cruz\")\n",
    "df3 = df2[~df2.name.isin(erase_values)]"
   ]
  },
  {
   "cell_type": "code",
   "execution_count": 3,
   "metadata": {},
   "outputs": [],
   "source": [
    "# Group by name if assisted is 0 then not attend to class, if 1 attend to class\n",
    "df4 = df3.groupby('name').sum()"
   ]
  },
  {
   "cell_type": "code",
   "execution_count": 27,
   "metadata": {},
   "outputs": [],
   "source": [
    "# Export the new CSV\n",
    "df4.to_csv(r'export_dataframe.csv', index = True, header=True)"
   ]
  },
  {
   "cell_type": "code",
   "execution_count": null,
   "metadata": {},
   "outputs": [],
   "source": []
  }
 ],
 "metadata": {
  "kernelspec": {
   "display_name": "Python 3",
   "language": "python",
   "name": "python3"
  },
  "language_info": {
   "codemirror_mode": {
    "name": "ipython",
    "version": 3
   },
   "file_extension": ".py",
   "mimetype": "text/x-python",
   "name": "python",
   "nbconvert_exporter": "python",
   "pygments_lexer": "ipython3",
   "version": "3.8.5"
  }
 },
 "nbformat": 4,
 "nbformat_minor": 4
}
