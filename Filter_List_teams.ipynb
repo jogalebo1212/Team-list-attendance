{
 "cells": [
  {
   "cell_type": "code",
   "execution_count": 1,
   "metadata": {},
   "outputs": [],
   "source": [
    "# Import pandas to create a data frame\n",
    "import pandas as pd\n",
    "\n",
    "# Import datetime to obtain the time\n",
    "from datetime import date"
   ]
  },
  {
   "cell_type": "code",
   "execution_count": 2,
   "metadata": {},
   "outputs": [],
   "source": [
    "# Define name column with the today date\n",
    "today = date.today()\n",
    "s = f\"asistencia del {today}\""
   ]
  },
  {
   "cell_type": "code",
   "execution_count": 3,
   "metadata": {},
   "outputs": [],
   "source": [
    "# Import the csv\n",
    "df = pd.read_csv('listas1.csv')\n",
    "\n",
    "# Create column status with initial value on 0\n",
    "df.loc[:, 'status'] = -1\n",
    "\n",
    "# Filter the students by joined legend\n",
    "df.loc[df['action'].str.startswith('Un'), 'status'] = 1\n",
    "\n",
    "# Select columns\n",
    "df1 = df[['name', 'status']]\n",
    "\n",
    "# Rename the columns\n",
    "df2 = df1.rename(columns={\"name\": \"Alumno\", \"status\": \"assisted\"})\n",
    "df2 = df2.sort_values('Alumno')\n",
    "\n",
    "# Filter assistants and teacher\n",
    "erase_values = (\"Flor Alejandra Cruz Guzmán\", \"Iván Heredia De La Cruz\")\n",
    "df3 = df2[~df2.Alumno.isin(erase_values)]"
   ]
  },
  {
   "cell_type": "code",
   "execution_count": 4,
   "metadata": {},
   "outputs": [],
   "source": [
    "# Group by name if assisted is 0 then not attend to class, if 1 attend to class\n",
    "df4 = df3.groupby('Alumno').sum()\n",
    "df5 = df4.rename(columns={\"assisted\": s})"
   ]
  },
  {
   "cell_type": "code",
   "execution_count": 5,
   "metadata": {},
   "outputs": [],
   "source": [
    "# Export the new CSV\n",
    "df5.to_csv(r'export_dataframe.csv', index = True, header=True)"
   ]
  }
 ],
 "metadata": {
  "kernelspec": {
   "display_name": "Python 3",
   "language": "python",
   "name": "python3"
  },
  "language_info": {
   "codemirror_mode": {
    "name": "ipython",
    "version": 3
   },
   "file_extension": ".py",
   "mimetype": "text/x-python",
   "name": "python",
   "nbconvert_exporter": "python",
   "pygments_lexer": "ipython3",
   "version": "3.8.5"
  }
 },
 "nbformat": 4,
 "nbformat_minor": 4
}
